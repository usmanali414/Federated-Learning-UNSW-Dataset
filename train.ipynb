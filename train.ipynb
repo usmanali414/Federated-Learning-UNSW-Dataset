{
 "cells": [
  {
   "cell_type": "code",
   "execution_count": 2,
   "metadata": {},
   "outputs": [],
   "source": [
    "import pandas as pd\n",
    "from sklearn.preprocessing import Normalizer"
   ]
  },
  {
   "cell_type": "code",
   "execution_count": 3,
   "metadata": {},
   "outputs": [],
   "source": [
    "path_to_train_set = \"./data/centralized_data.csv\"\n",
    "df = pd.read_csv(path_to_train_set)\n",
    "path_to_test_set = \"./data/centralized_test_data.csv\"\n",
    "df_test = pd.read_csv(path_to_test_set)"
   ]
  },
  {
   "cell_type": "code",
   "execution_count": 4,
   "metadata": {},
   "outputs": [],
   "source": [
    "traindata = df"
   ]
  },
  {
   "cell_type": "code",
   "execution_count": 5,
   "metadata": {},
   "outputs": [],
   "source": [
    "testdata =df_test"
   ]
  },
  {
   "cell_type": "code",
   "execution_count": 6,
   "metadata": {},
   "outputs": [],
   "source": [
    "traindata = traindata.drop([\"attack_cat\"],axis=1)\n",
    "testdata = testdata.drop([\"attack_cat\"],axis=1)"
   ]
  },
  {
   "cell_type": "code",
   "execution_count": 7,
   "metadata": {},
   "outputs": [],
   "source": [
    "X = traindata.iloc[:,1:43]\n",
    "Y = traindata.iloc[:,43:]\n",
    "X_test = testdata.iloc[:,1:43]\n",
    "Y_test = testdata.iloc[:,43:]\n"
   ]
  },
  {
   "cell_type": "code",
   "execution_count": 7,
   "metadata": {},
   "outputs": [
    {
     "data": {
      "text/plain": [
       "42"
      ]
     },
     "execution_count": 7,
     "metadata": {},
     "output_type": "execute_result"
    }
   ],
   "source": [
    "len(X.columns)"
   ]
  },
  {
   "cell_type": "code",
   "execution_count": 8,
   "metadata": {},
   "outputs": [
    {
     "data": {
      "text/plain": [
       "42"
      ]
     },
     "execution_count": 8,
     "metadata": {},
     "output_type": "execute_result"
    }
   ],
   "source": [
    "len(X_test.columns)"
   ]
  },
  {
   "cell_type": "code",
   "execution_count": 9,
   "metadata": {},
   "outputs": [
    {
     "data": {
      "text/plain": [
       "array([ 0,  1,  2,  3,  4,  5,  6,  7,  8,  9, 10, 11, 12], dtype=int64)"
      ]
     },
     "execution_count": 9,
     "metadata": {},
     "output_type": "execute_result"
    }
   ],
   "source": [
    "X[\"service\"].unique()"
   ]
  },
  {
   "cell_type": "code",
   "execution_count": 10,
   "metadata": {},
   "outputs": [
    {
     "data": {
      "text/plain": [
       "array([0, 1, 2, 3, 4, 5, 6, 7, 8], dtype=int64)"
      ]
     },
     "execution_count": 10,
     "metadata": {},
     "output_type": "execute_result"
    }
   ],
   "source": [
    "X[\"state\"].unique()"
   ]
  },
  {
   "cell_type": "code",
   "execution_count": 8,
   "metadata": {},
   "outputs": [],
   "source": [
    "categorical_columns = [\n",
    "    \"proto\",\"service\",\"state\",\"service\",\"sttl\",\n",
    "    \"dttl\",\"swin\",\"dwin\",\"trans_depth\",\"ct_ftp_cmd\",\n",
    "    \"is_ftp_login\",\"ct_srv_src\",\"ct_srv_dst\",\"ct_dst_ltm\",\n",
    "    \"ct_src_ltm\", \"ct_src_dport_ltm\",\"ct_dst_sport_ltm\",\n",
    "    \"ct_dst_src_ltm\",\"ct_state_ttl\",\"ct_flw_http_mthd\",\n",
    "                       ]"
   ]
  },
  {
   "cell_type": "code",
   "execution_count": 12,
   "metadata": {},
   "outputs": [
    {
     "data": {
      "text/html": [
       "<div>\n",
       "<style scoped>\n",
       "    .dataframe tbody tr th:only-of-type {\n",
       "        vertical-align: middle;\n",
       "    }\n",
       "\n",
       "    .dataframe tbody tr th {\n",
       "        vertical-align: top;\n",
       "    }\n",
       "\n",
       "    .dataframe thead th {\n",
       "        text-align: right;\n",
       "    }\n",
       "</style>\n",
       "<table border=\"1\" class=\"dataframe\">\n",
       "  <thead>\n",
       "    <tr style=\"text-align: right;\">\n",
       "      <th></th>\n",
       "      <th>dur</th>\n",
       "      <th>proto</th>\n",
       "      <th>service</th>\n",
       "      <th>state</th>\n",
       "      <th>spkts</th>\n",
       "      <th>dpkts</th>\n",
       "      <th>sbytes</th>\n",
       "      <th>dbytes</th>\n",
       "      <th>rate</th>\n",
       "      <th>sttl</th>\n",
       "      <th>...</th>\n",
       "      <th>ct_dst_ltm</th>\n",
       "      <th>ct_src_dport_ltm</th>\n",
       "      <th>ct_dst_sport_ltm</th>\n",
       "      <th>ct_dst_src_ltm</th>\n",
       "      <th>is_ftp_login</th>\n",
       "      <th>ct_ftp_cmd</th>\n",
       "      <th>ct_flw_http_mthd</th>\n",
       "      <th>ct_src_ltm</th>\n",
       "      <th>ct_srv_dst</th>\n",
       "      <th>is_sm_ips_ports</th>\n",
       "    </tr>\n",
       "  </thead>\n",
       "  <tbody>\n",
       "    <tr>\n",
       "      <th>0</th>\n",
       "      <td>0.121478</td>\n",
       "      <td>0</td>\n",
       "      <td>0</td>\n",
       "      <td>0</td>\n",
       "      <td>6</td>\n",
       "      <td>4</td>\n",
       "      <td>258</td>\n",
       "      <td>172</td>\n",
       "      <td>74.087490</td>\n",
       "      <td>0</td>\n",
       "      <td>...</td>\n",
       "      <td>0</td>\n",
       "      <td>0</td>\n",
       "      <td>0</td>\n",
       "      <td>0</td>\n",
       "      <td>0</td>\n",
       "      <td>0</td>\n",
       "      <td>0</td>\n",
       "      <td>0</td>\n",
       "      <td>0</td>\n",
       "      <td>0</td>\n",
       "    </tr>\n",
       "    <tr>\n",
       "      <th>1</th>\n",
       "      <td>0.649902</td>\n",
       "      <td>0</td>\n",
       "      <td>0</td>\n",
       "      <td>0</td>\n",
       "      <td>14</td>\n",
       "      <td>38</td>\n",
       "      <td>734</td>\n",
       "      <td>42014</td>\n",
       "      <td>78.473372</td>\n",
       "      <td>1</td>\n",
       "      <td>...</td>\n",
       "      <td>0</td>\n",
       "      <td>0</td>\n",
       "      <td>0</td>\n",
       "      <td>1</td>\n",
       "      <td>0</td>\n",
       "      <td>0</td>\n",
       "      <td>0</td>\n",
       "      <td>0</td>\n",
       "      <td>1</td>\n",
       "      <td>0</td>\n",
       "    </tr>\n",
       "    <tr>\n",
       "      <th>2</th>\n",
       "      <td>1.623129</td>\n",
       "      <td>0</td>\n",
       "      <td>0</td>\n",
       "      <td>0</td>\n",
       "      <td>8</td>\n",
       "      <td>16</td>\n",
       "      <td>364</td>\n",
       "      <td>13186</td>\n",
       "      <td>14.170161</td>\n",
       "      <td>1</td>\n",
       "      <td>...</td>\n",
       "      <td>1</td>\n",
       "      <td>0</td>\n",
       "      <td>0</td>\n",
       "      <td>2</td>\n",
       "      <td>0</td>\n",
       "      <td>0</td>\n",
       "      <td>0</td>\n",
       "      <td>1</td>\n",
       "      <td>1</td>\n",
       "      <td>0</td>\n",
       "    </tr>\n",
       "    <tr>\n",
       "      <th>3</th>\n",
       "      <td>1.681642</td>\n",
       "      <td>0</td>\n",
       "      <td>1</td>\n",
       "      <td>0</td>\n",
       "      <td>12</td>\n",
       "      <td>12</td>\n",
       "      <td>628</td>\n",
       "      <td>770</td>\n",
       "      <td>13.677108</td>\n",
       "      <td>1</td>\n",
       "      <td>...</td>\n",
       "      <td>1</td>\n",
       "      <td>0</td>\n",
       "      <td>0</td>\n",
       "      <td>2</td>\n",
       "      <td>1</td>\n",
       "      <td>1</td>\n",
       "      <td>0</td>\n",
       "      <td>1</td>\n",
       "      <td>0</td>\n",
       "      <td>0</td>\n",
       "    </tr>\n",
       "    <tr>\n",
       "      <th>4</th>\n",
       "      <td>0.449454</td>\n",
       "      <td>0</td>\n",
       "      <td>0</td>\n",
       "      <td>0</td>\n",
       "      <td>10</td>\n",
       "      <td>6</td>\n",
       "      <td>534</td>\n",
       "      <td>268</td>\n",
       "      <td>33.373826</td>\n",
       "      <td>2</td>\n",
       "      <td>...</td>\n",
       "      <td>1</td>\n",
       "      <td>1</td>\n",
       "      <td>0</td>\n",
       "      <td>3</td>\n",
       "      <td>0</td>\n",
       "      <td>0</td>\n",
       "      <td>0</td>\n",
       "      <td>1</td>\n",
       "      <td>2</td>\n",
       "      <td>0</td>\n",
       "    </tr>\n",
       "    <tr>\n",
       "      <th>...</th>\n",
       "      <td>...</td>\n",
       "      <td>...</td>\n",
       "      <td>...</td>\n",
       "      <td>...</td>\n",
       "      <td>...</td>\n",
       "      <td>...</td>\n",
       "      <td>...</td>\n",
       "      <td>...</td>\n",
       "      <td>...</td>\n",
       "      <td>...</td>\n",
       "      <td>...</td>\n",
       "      <td>...</td>\n",
       "      <td>...</td>\n",
       "      <td>...</td>\n",
       "      <td>...</td>\n",
       "      <td>...</td>\n",
       "      <td>...</td>\n",
       "      <td>...</td>\n",
       "      <td>...</td>\n",
       "      <td>...</td>\n",
       "      <td>...</td>\n",
       "    </tr>\n",
       "    <tr>\n",
       "      <th>175336</th>\n",
       "      <td>0.000009</td>\n",
       "      <td>1</td>\n",
       "      <td>6</td>\n",
       "      <td>1</td>\n",
       "      <td>2</td>\n",
       "      <td>0</td>\n",
       "      <td>114</td>\n",
       "      <td>0</td>\n",
       "      <td>111111.107200</td>\n",
       "      <td>2</td>\n",
       "      <td>...</td>\n",
       "      <td>14</td>\n",
       "      <td>36</td>\n",
       "      <td>20</td>\n",
       "      <td>46</td>\n",
       "      <td>0</td>\n",
       "      <td>0</td>\n",
       "      <td>0</td>\n",
       "      <td>20</td>\n",
       "      <td>22</td>\n",
       "      <td>0</td>\n",
       "    </tr>\n",
       "    <tr>\n",
       "      <th>175337</th>\n",
       "      <td>0.505762</td>\n",
       "      <td>0</td>\n",
       "      <td>0</td>\n",
       "      <td>0</td>\n",
       "      <td>10</td>\n",
       "      <td>8</td>\n",
       "      <td>620</td>\n",
       "      <td>354</td>\n",
       "      <td>33.612649</td>\n",
       "      <td>2</td>\n",
       "      <td>...</td>\n",
       "      <td>0</td>\n",
       "      <td>0</td>\n",
       "      <td>0</td>\n",
       "      <td>1</td>\n",
       "      <td>0</td>\n",
       "      <td>0</td>\n",
       "      <td>0</td>\n",
       "      <td>0</td>\n",
       "      <td>0</td>\n",
       "      <td>0</td>\n",
       "    </tr>\n",
       "    <tr>\n",
       "      <th>175338</th>\n",
       "      <td>0.000009</td>\n",
       "      <td>1</td>\n",
       "      <td>6</td>\n",
       "      <td>1</td>\n",
       "      <td>2</td>\n",
       "      <td>0</td>\n",
       "      <td>114</td>\n",
       "      <td>0</td>\n",
       "      <td>111111.107200</td>\n",
       "      <td>2</td>\n",
       "      <td>...</td>\n",
       "      <td>2</td>\n",
       "      <td>2</td>\n",
       "      <td>2</td>\n",
       "      <td>12</td>\n",
       "      <td>0</td>\n",
       "      <td>0</td>\n",
       "      <td>0</td>\n",
       "      <td>2</td>\n",
       "      <td>13</td>\n",
       "      <td>0</td>\n",
       "    </tr>\n",
       "    <tr>\n",
       "      <th>175339</th>\n",
       "      <td>0.000009</td>\n",
       "      <td>1</td>\n",
       "      <td>6</td>\n",
       "      <td>1</td>\n",
       "      <td>2</td>\n",
       "      <td>0</td>\n",
       "      <td>114</td>\n",
       "      <td>0</td>\n",
       "      <td>111111.107200</td>\n",
       "      <td>2</td>\n",
       "      <td>...</td>\n",
       "      <td>45</td>\n",
       "      <td>35</td>\n",
       "      <td>6</td>\n",
       "      <td>40</td>\n",
       "      <td>0</td>\n",
       "      <td>0</td>\n",
       "      <td>0</td>\n",
       "      <td>35</td>\n",
       "      <td>33</td>\n",
       "      <td>0</td>\n",
       "    </tr>\n",
       "    <tr>\n",
       "      <th>175340</th>\n",
       "      <td>0.000009</td>\n",
       "      <td>1</td>\n",
       "      <td>6</td>\n",
       "      <td>1</td>\n",
       "      <td>2</td>\n",
       "      <td>0</td>\n",
       "      <td>114</td>\n",
       "      <td>0</td>\n",
       "      <td>111111.107200</td>\n",
       "      <td>2</td>\n",
       "      <td>...</td>\n",
       "      <td>45</td>\n",
       "      <td>35</td>\n",
       "      <td>19</td>\n",
       "      <td>40</td>\n",
       "      <td>0</td>\n",
       "      <td>0</td>\n",
       "      <td>0</td>\n",
       "      <td>35</td>\n",
       "      <td>33</td>\n",
       "      <td>0</td>\n",
       "    </tr>\n",
       "  </tbody>\n",
       "</table>\n",
       "<p>175341 rows × 42 columns</p>\n",
       "</div>"
      ],
      "text/plain": [
       "             dur  proto  service  state  spkts  dpkts  sbytes  dbytes   \n",
       "0       0.121478      0        0      0      6      4     258     172  \\\n",
       "1       0.649902      0        0      0     14     38     734   42014   \n",
       "2       1.623129      0        0      0      8     16     364   13186   \n",
       "3       1.681642      0        1      0     12     12     628     770   \n",
       "4       0.449454      0        0      0     10      6     534     268   \n",
       "...          ...    ...      ...    ...    ...    ...     ...     ...   \n",
       "175336  0.000009      1        6      1      2      0     114       0   \n",
       "175337  0.505762      0        0      0     10      8     620     354   \n",
       "175338  0.000009      1        6      1      2      0     114       0   \n",
       "175339  0.000009      1        6      1      2      0     114       0   \n",
       "175340  0.000009      1        6      1      2      0     114       0   \n",
       "\n",
       "                 rate  sttl  ...  ct_dst_ltm  ct_src_dport_ltm   \n",
       "0           74.087490     0  ...           0                 0  \\\n",
       "1           78.473372     1  ...           0                 0   \n",
       "2           14.170161     1  ...           1                 0   \n",
       "3           13.677108     1  ...           1                 0   \n",
       "4           33.373826     2  ...           1                 1   \n",
       "...               ...   ...  ...         ...               ...   \n",
       "175336  111111.107200     2  ...          14                36   \n",
       "175337      33.612649     2  ...           0                 0   \n",
       "175338  111111.107200     2  ...           2                 2   \n",
       "175339  111111.107200     2  ...          45                35   \n",
       "175340  111111.107200     2  ...          45                35   \n",
       "\n",
       "        ct_dst_sport_ltm  ct_dst_src_ltm  is_ftp_login  ct_ftp_cmd   \n",
       "0                      0               0             0           0  \\\n",
       "1                      0               1             0           0   \n",
       "2                      0               2             0           0   \n",
       "3                      0               2             1           1   \n",
       "4                      0               3             0           0   \n",
       "...                  ...             ...           ...         ...   \n",
       "175336                20              46             0           0   \n",
       "175337                 0               1             0           0   \n",
       "175338                 2              12             0           0   \n",
       "175339                 6              40             0           0   \n",
       "175340                19              40             0           0   \n",
       "\n",
       "        ct_flw_http_mthd  ct_src_ltm  ct_srv_dst  is_sm_ips_ports  \n",
       "0                      0           0           0                0  \n",
       "1                      0           0           1                0  \n",
       "2                      0           1           1                0  \n",
       "3                      0           1           0                0  \n",
       "4                      0           1           2                0  \n",
       "...                  ...         ...         ...              ...  \n",
       "175336                 0          20          22                0  \n",
       "175337                 0           0           0                0  \n",
       "175338                 0           2          13                0  \n",
       "175339                 0          35          33                0  \n",
       "175340                 0          35          33                0  \n",
       "\n",
       "[175341 rows x 42 columns]"
      ]
     },
     "execution_count": 12,
     "metadata": {},
     "output_type": "execute_result"
    }
   ],
   "source": [
    "X"
   ]
  },
  {
   "cell_type": "code",
   "execution_count": 9,
   "metadata": {},
   "outputs": [],
   "source": [
    "cat_X = X[categorical_columns]\n",
    "\n",
    "X = X.drop(categorical_columns,axis=1)\n",
    "X_columns_without_cat = X.columns\n",
    "\n",
    "test_cat_X = X_test[categorical_columns]\n",
    "\n",
    "X_test = X_test.drop(categorical_columns,axis=1)\n",
    "test_X_columns_without_cat = X_test.columns"
   ]
  },
  {
   "cell_type": "code",
   "execution_count": 10,
   "metadata": {},
   "outputs": [],
   "source": [
    "scaler = Normalizer().fit(X)\n",
    "trainX = scaler.transform(X)\n",
    "\n",
    "test_scaler = Normalizer().fit(X_test)\n",
    "testX = test_scaler.transform(X_test)"
   ]
  },
  {
   "cell_type": "code",
   "execution_count": 11,
   "metadata": {},
   "outputs": [],
   "source": [
    "trainX = pd.DataFrame(trainX,columns=X_columns_without_cat)\n",
    "testX = pd.DataFrame(testX,columns=test_X_columns_without_cat)"
   ]
  },
  {
   "cell_type": "code",
   "execution_count": 12,
   "metadata": {},
   "outputs": [],
   "source": [
    "trainX = pd.concat([trainX,cat_X],axis=1)\n",
    "testX = pd.concat([testX,test_cat_X],axis=1)"
   ]
  },
  {
   "cell_type": "code",
   "execution_count": 13,
   "metadata": {},
   "outputs": [
    {
     "data": {
      "text/plain": [
       "(82332, 43)"
      ]
     },
     "execution_count": 13,
     "metadata": {},
     "output_type": "execute_result"
    }
   ],
   "source": [
    "testX.shape"
   ]
  },
  {
   "cell_type": "code",
   "execution_count": 14,
   "metadata": {},
   "outputs": [
    {
     "data": {
      "text/plain": [
       "(175341, 43)"
      ]
     },
     "execution_count": 14,
     "metadata": {},
     "output_type": "execute_result"
    }
   ],
   "source": [
    "trainX.shape"
   ]
  },
  {
   "cell_type": "code",
   "execution_count": 15,
   "metadata": {},
   "outputs": [],
   "source": [
    "from keras.models import Sequential\n",
    "from keras.layers import Dense, Dropout, Activation, Embedding, BatchNormalization\n",
    "from keras.layers import LSTM, SimpleRNN, GRU\n",
    "from tensorflow.keras import regularizers\n",
    "from tensorflow.keras.optimizers import Adam\n",
    "from tensorflow.keras.callbacks import LearningRateScheduler"
   ]
  },
  {
   "cell_type": "code",
   "execution_count": 16,
   "metadata": {},
   "outputs": [],
   "source": [
    "# model = Sequential()\n",
    "# model.add(Dense(1024,input_dim=194,activation='relu'))  \n",
    "# model.add(Dropout(0.01))\n",
    "# model.add(Dense(1))\n",
    "# model.add(Activation('sigmoid'))\n",
    "\n",
    "\n",
    "# model = Sequential()\n",
    "# model.add(Dense(1024,input_dim=43,activation='relu'))  \n",
    "# model.add(Dropout(0.01))\n",
    "# model.add(Dense(768,activation='relu'))  \n",
    "# model.add(Dropout(0.01))\n",
    "# model.add(Dense(512,activation='relu'))  \n",
    "# model.add(Dropout(0.01))\n",
    "# model.add(Dense(256,activation='relu'))  \n",
    "# model.add(Dropout(0.01))\n",
    "# model.add(Dense(128,activation='relu'))  \n",
    "# model.add(Dropout(0.01))\n",
    "# model.add(Dense(1))\n",
    "# model.add(Activation('sigmoid'))\n",
    "\n",
    "\n",
    "\n",
    "model = Sequential()\n",
    "model.add(Dense(1024,input_dim=43,activation='relu'))  \n",
    "model.add(BatchNormalization())\n",
    "model.add(Dropout(0.01))\n",
    "model.add(Dense(768,activation='tanh',kernel_regularizer=regularizers.l2(0.01)))  \n",
    "model.add(BatchNormalization())\n",
    "model.add(Dropout(0.01))\n",
    "model.add(Dense(512,activation='tanh',kernel_regularizer=regularizers.l2(0.01)))  \n",
    "model.add(BatchNormalization())\n",
    "model.add(Dropout(0.01))\n",
    "model.add(Dense(256,activation='tanh',kernel_regularizer=regularizers.l2(0.01)))  \n",
    "model.add(BatchNormalization())\n",
    "model.add(Dropout(0.01))\n",
    "model.add(Dense(128,activation='tanh',kernel_regularizer=regularizers.l2(0.01)))  \n",
    "model.add(BatchNormalization())\n",
    "model.add(Dropout(0.01))\n",
    "model.add(Dense(1))\n",
    "model.add(Activation('sigmoid'))"
   ]
  },
  {
   "cell_type": "code",
   "execution_count": 17,
   "metadata": {},
   "outputs": [],
   "source": [
    "model.compile(loss='binary_crossentropy',optimizer=Adam(learning_rate=0.001),metrics=['accuracy'])"
   ]
  },
  {
   "cell_type": "code",
   "execution_count": 82,
   "metadata": {},
   "outputs": [
    {
     "name": "stdout",
     "output_type": "stream",
     "text": [
      "Epoch 1/10\n",
      "176/176 [==============================] - 14s 77ms/step - loss: 1.8856 - accuracy: 0.9248 - val_loss: 0.5740 - val_accuracy: 0.8714 - lr: 0.0010\n",
      "Epoch 2/10\n",
      "176/176 [==============================] - 14s 80ms/step - loss: 0.3028 - accuracy: 0.9362 - val_loss: 0.4697 - val_accuracy: 0.8061 - lr: 0.0010\n",
      "Epoch 3/10\n",
      "176/176 [==============================] - 14s 81ms/step - loss: 0.1857 - accuracy: 0.9371 - val_loss: 0.6258 - val_accuracy: 0.7900 - lr: 0.0010\n",
      "Epoch 4/10\n",
      "176/176 [==============================] - 14s 78ms/step - loss: 0.1557 - accuracy: 0.9377 - val_loss: 0.4100 - val_accuracy: 0.8074 - lr: 5.0000e-04\n",
      "Epoch 5/10\n",
      "176/176 [==============================] - 15s 86ms/step - loss: 0.1472 - accuracy: 0.9383 - val_loss: 0.2317 - val_accuracy: 0.9165 - lr: 5.0000e-04\n",
      "Epoch 6/10\n",
      "176/176 [==============================] - 15s 87ms/step - loss: 0.1408 - accuracy: 0.9386 - val_loss: 0.3098 - val_accuracy: 0.8133 - lr: 5.0000e-04\n",
      "Epoch 7/10\n",
      "176/176 [==============================] - 15s 86ms/step - loss: 0.1350 - accuracy: 0.9394 - val_loss: 0.3648 - val_accuracy: 0.8107 - lr: 2.5000e-04\n",
      "Epoch 8/10\n",
      "176/176 [==============================] - 15s 84ms/step - loss: 0.1322 - accuracy: 0.9399 - val_loss: 0.2313 - val_accuracy: 0.9099 - lr: 2.5000e-04\n",
      "Epoch 9/10\n",
      "176/176 [==============================] - 15s 85ms/step - loss: 0.1325 - accuracy: 0.9392 - val_loss: 0.4604 - val_accuracy: 0.8088 - lr: 2.5000e-04\n",
      "Epoch 10/10\n",
      "176/176 [==============================] - 15s 84ms/step - loss: 0.1288 - accuracy: 0.9400 - val_loss: 0.2591 - val_accuracy: 0.8608 - lr: 1.2500e-04\n"
     ]
    }
   ],
   "source": [
    "def lr_schedule(epoch):\n",
    "    initial_learning_rate = 0.001\n",
    "    decay_rate = 0.5\n",
    "    decay_steps = 3\n",
    "    lr = initial_learning_rate * decay_rate ** (epoch // decay_steps)\n",
    "    return lr\n",
    "\n",
    "# Create a learning rate scheduler\n",
    "lr_scheduler = LearningRateScheduler(lr_schedule)\n",
    "history = model.fit(trainX, Y, batch_size=1000, epochs=10,validation_data=(testX,Y_test),callbacks=[lr_scheduler])"
   ]
  },
  {
   "cell_type": "code",
   "execution_count": 87,
   "metadata": {},
   "outputs": [
    {
     "data": {
      "text/plain": [
       "(array([0, 1], dtype=int64), array([ 56000, 119341], dtype=int64))"
      ]
     },
     "execution_count": 87,
     "metadata": {},
     "output_type": "execute_result"
    }
   ],
   "source": [
    "import numpy as np\n",
    "np.unique(Y.to_numpy(),return_counts=True)"
   ]
  },
  {
   "cell_type": "code",
   "execution_count": 88,
   "metadata": {},
   "outputs": [
    {
     "data": {
      "text/plain": [
       "(array([0, 1], dtype=int64), array([37000, 45332], dtype=int64))"
      ]
     },
     "execution_count": 88,
     "metadata": {},
     "output_type": "execute_result"
    }
   ],
   "source": [
    "import numpy as np\n",
    "np.unique(Y_test.to_numpy(),return_counts=True)"
   ]
  },
  {
   "cell_type": "code",
   "execution_count": null,
   "metadata": {},
   "outputs": [],
   "source": []
  },
  {
   "cell_type": "code",
   "execution_count": 83,
   "metadata": {},
   "outputs": [
    {
     "data": {
      "image/png": "[encoded data removed]",
      "text/plain": [
       "<Figure size 640x480 with 1 Axes>"
      ]
     },
     "metadata": {},
     "output_type": "display_data"
    }
   ],
   "source": [
    "import matplotlib.pyplot as plt\n",
    "\n",
    "# Assuming you have a 'history' object obtained from training your Keras model\n",
    "train_accuracy = history.history['accuracy']\n",
    "val_accuracy = history.history['val_accuracy']\n",
    "epochs = range(1, len(train_accuracy) + 1)\n",
    "\n",
    "# Plotting accuracy vs validation accuracy\n",
    "plt.plot(epochs, train_accuracy, 'b', label='Training Accuracy')\n",
    "plt.plot(epochs, val_accuracy, 'r', label='Validation Accuracy')\n",
    "plt.title('Training and Validation Accuracy')\n",
    "plt.xlabel('Epochs')\n",
    "plt.ylabel('Accuracy')\n",
    "plt.legend()\n",
    "plt.show()"
   ]
  },
  {
   "cell_type": "code",
   "execution_count": 18,
   "metadata": {},
   "outputs": [
    {
     "name": "stdout",
     "output_type": "stream",
     "text": [
      "2573/2573 [==============================] - 7s 3ms/step\n"
     ]
    }
   ],
   "source": [
    "y_pred = model.predict(testX)\n"
   ]
  },
  {
   "cell_type": "code",
   "execution_count": 122,
   "metadata": {},
   "outputs": [],
   "source": [
    "y_pred = np.squeeze(np.where(y_pred>0.5,1,0))"
   ]
  },
  {
   "cell_type": "code",
   "execution_count": 123,
   "metadata": {},
   "outputs": [
    {
     "data": {
      "text/plain": [
       "array([1, 1, 1, ..., 0, 0, 1])"
      ]
     },
     "execution_count": 123,
     "metadata": {},
     "output_type": "execute_result"
    }
   ],
   "source": [
    "y_pred"
   ]
  },
  {
   "cell_type": "code",
   "execution_count": 124,
   "metadata": {},
   "outputs": [
    {
     "data": {
      "text/plain": [
       "array([0, 0, 0, ..., 0, 0, 0], dtype=int64)"
      ]
     },
     "execution_count": 124,
     "metadata": {},
     "output_type": "execute_result"
    }
   ],
   "source": [
    "np.squeeze(Y_test.to_numpy())"
   ]
  },
  {
   "cell_type": "code",
   "execution_count": 125,
   "metadata": {},
   "outputs": [],
   "source": [
    "from sklearn.metrics import confusion_matrix\n",
    "cm = confusion_matrix(np.squeeze(Y_test.to_numpy()), y_pred)\n"
   ]
  },
  {
   "cell_type": "code",
   "execution_count": 126,
   "metadata": {},
   "outputs": [],
   "source": [
    "from sklearn.metrics import ConfusionMatrixDisplay"
   ]
  },
  {
   "cell_type": "code",
   "execution_count": 20,
   "metadata": {},
   "outputs": [
    {
     "name": "stdout",
     "output_type": "stream",
     "text": [
      "2573/2573 [==============================] - 7s 3ms/step - loss: 20.6972 - accuracy: 0.5867\n"
     ]
    }
   ],
   "source": [
    "res = model.evaluate(testX,Y_test)"
   ]
  },
  {
   "cell_type": "code",
   "execution_count": 23,
   "metadata": {},
   "outputs": [],
   "source": [
    "loss, acc = res"
   ]
  },
  {
   "cell_type": "code",
   "execution_count": 25,
   "metadata": {},
   "outputs": [
    {
     "data": {
      "text/plain": [
       "0.5867099165916443"
      ]
     },
     "execution_count": 25,
     "metadata": {},
     "output_type": "execute_result"
    }
   ],
   "source": [
    "acc"
   ]
  },
  {
   "cell_type": "code",
   "execution_count": 128,
   "metadata": {},
   "outputs": [
    {
     "data": {
      "image/png": "[encoded data removed]",
      "text/plain": [
       "<Figure size 640x480 with 2 Axes>"
      ]
     },
     "metadata": {},
     "output_type": "display_data"
    }
   ],
   "source": [
    "disp = ConfusionMatrixDisplay(cm)\n",
    "disp.plot()\n",
    "plt.show()"
   ]
  },
  {
   "cell_type": "code",
   "execution_count": 72,
   "metadata": {},
   "outputs": [
    {
     "data": {
      "image/png": "[encoded data removed]",
      "text/plain": [
       "<Figure size 640x480 with 1 Axes>"
      ]
     },
     "metadata": {},
     "output_type": "display_data"
    }
   ],
   "source": [
    "import matplotlib.pyplot as plt\n",
    "\n",
    "# Assuming you have a 'history' object obtained from training your Keras model\n",
    "train_loss = history.history['loss']\n",
    "val_loss = history.history['val_loss']\n",
    "epochs = range(1, len(train_loss) + 1)\n",
    "\n",
    "# Plotting loss vs validation loss\n",
    "plt.plot(epochs, train_loss, 'b', label='Training Loss')\n",
    "plt.plot(epochs, val_loss, 'r', label='Validation Loss')\n",
    "plt.title('Training and Validation Loss')\n",
    "plt.xlabel('Epochs')\n",
    "plt.ylabel('Loss')\n",
    "plt.legend()\n",
    "plt.show()\n"
   ]
  },
  {
   "cell_type": "code",
   "execution_count": 52,
   "metadata": {},
   "outputs": [
    {
     "data": {
      "text/plain": [
       "array(['1', '0', '4', '2', '5', 'CLO', 1, 2, 4], dtype=object)"
      ]
     },
     "execution_count": 52,
     "metadata": {},
     "output_type": "execute_result"
    }
   ],
   "source": [
    "testX['state'].unique()"
   ]
  },
  {
   "cell_type": "code",
   "execution_count": 53,
   "metadata": {},
   "outputs": [],
   "source": [
    "# testX['state'].unique()\n",
    "testX['state'] = 0"
   ]
  },
  {
   "cell_type": "code",
   "execution_count": 39,
   "metadata": {},
   "outputs": [
    {
     "data": {
      "text/plain": [
       "dur                  float64\n",
       "spkts                float64\n",
       "dpkts                float64\n",
       "sbytes               float64\n",
       "dbytes               float64\n",
       "rate                 float64\n",
       "sload                float64\n",
       "dload                float64\n",
       "sloss                float64\n",
       "dloss                float64\n",
       "sinpkt               float64\n",
       "dinpkt               float64\n",
       "sjit                 float64\n",
       "djit                 float64\n",
       "stcpb                float64\n",
       "dtcpb                float64\n",
       "tcprtt               float64\n",
       "synack               float64\n",
       "ackdat               float64\n",
       "smean                float64\n",
       "dmean                float64\n",
       "response_body_len    float64\n",
       "is_sm_ips_ports      float64\n",
       "proto                  int64\n",
       "service                int64\n",
       "state                 object\n",
       "service                int64\n",
       "sttl                   int64\n",
       "dttl                   int64\n",
       "swin                   int64\n",
       "dwin                   int64\n",
       "trans_depth            int64\n",
       "ct_ftp_cmd             int64\n",
       "is_ftp_login           int64\n",
       "ct_srv_src             int64\n",
       "ct_srv_dst             int64\n",
       "ct_dst_ltm             int64\n",
       "ct_src_ltm             int64\n",
       "ct_src_dport_ltm       int64\n",
       "ct_dst_sport_ltm       int64\n",
       "ct_dst_src_ltm         int64\n",
       "ct_state_ttl           int64\n",
       "ct_flw_http_mthd       int64\n",
       "dtype: object"
      ]
     },
     "execution_count": 39,
     "metadata": {},
     "output_type": "execute_result"
    }
   ],
   "source": [
    "testX.dtypes"
   ]
  },
  {
   "cell_type": "code",
   "execution_count": null,
   "metadata": {},
   "outputs": [],
   "source": [
    "model.predict(trainX)"
   ]
  },
  {
   "cell_type": "code",
   "execution_count": null,
   "metadata": {},
   "outputs": [],
   "source": [
    "import numpy as np\n",
    "np.unique(Y.to_numpy(),return_counts=True)"
   ]
  },
  {
   "cell_type": "code",
   "execution_count": null,
   "metadata": {},
   "outputs": [],
   "source": [
    "# for test\n",
    "traindata= pd.read_csv(\"./data/from_unsw_website/UNSW_NB15_testing-set.csv\")\n",
    "Test_X = traindata.iloc[:,1:44]\n",
    "Test_Y = traindata.iloc[:,44:]\n",
    "cat_Test_X = Test_X[['proto','service','state']].copy()\n",
    "Test_X = Test_X.drop(['attack_cat','proto','service','state'],axis=1)\n",
    "X_columns_without_cat = Test_X.columns\n",
    "cat_Test_X = pd.get_dummies(cat_Test_X, columns=['proto','service','state']).astype('int')\n",
    "Test_X = scaler.transform(Test_X)\n",
    "Test_X = pd.DataFrame(Test_X,columns=X_columns_without_cat)\n",
    "Test_X = pd.concat([Test_X,cat_Test_X],axis=1)"
   ]
  }
 ],
 "metadata": {
  "kernelspec": {
   "display_name": "fl_lstm",
   "language": "python",
   "name": "python3"
  },
  "language_info": {
   "codemirror_mode": {
    "name": "ipython",
    "version": 3
   },
   "file_extension": ".py",
   "mimetype": "text/x-python",
   "name": "python",
   "nbconvert_exporter": "python",
   "pygments_lexer": "ipython3",
   "version": "3.11.3"
  },
  "orig_nbformat": 4
 },
 "nbformat": 4,
 "nbformat_minor": 2
}
