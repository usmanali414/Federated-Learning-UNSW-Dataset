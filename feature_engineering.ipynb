{
 "cells": [
  {
   "cell_type": "code",
   "execution_count": 88,
   "metadata": {},
   "outputs": [],
   "source": [
    "import pandas as pd\n",
    "import os\n",
    "\n",
    "# downloaded csv for train and test set interchanged, test-set has 175341 entries and train-set has 82,332\n",
    "path_to_train_set = \"./data/from_unsw_website/UNSW_NB15_training-set.csv\"\n",
    "path_to_test_set = \"./data/from_unsw_website/UNSW_NB15_testing-set.csv\"\n",
    "number_of_clients = 10\n",
    "path_to_client_dataset = \"./data/client_dataset\"\n",
    "\n",
    "df = pd.read_csv(path_to_train_set)\n",
    "df_test = pd.read_csv(path_to_test_set)\n"
   ]
  },
  {
   "attachments": {},
   "cell_type": "markdown",
   "metadata": {},
   "source": [
    "# check all unique values in each column"
   ]
  },
  {
   "cell_type": "code",
   "execution_count": 109,
   "metadata": {},
   "outputs": [],
   "source": [
    "df = pd.concat([df,df_test])"
   ]
  },
  {
   "cell_type": "code",
   "execution_count": 110,
   "metadata": {},
   "outputs": [],
   "source": [
    "categorical_columns = [\n",
    "    \"proto\",\"service\",\"state\",\"service\",\"sttl\",\n",
    "    \"dttl\",\"swin\",\"dwin\",\"trans_depth\",\"ct_ftp_cmd\",\n",
    "    \"is_ftp_login\",\"ct_srv_src\",\"ct_srv_dst\",\"ct_dst_ltm\",\n",
    "    \"ct_src_ltm\", \"ct_src_dport_ltm\",\"ct_dst_sport_ltm\",\n",
    "    \"ct_dst_src_ltm\",\"ct_state_ttl\",\"ct_flw_http_mthd\",\n",
    "                       ]"
   ]
  },
  {
   "cell_type": "code",
   "execution_count": 111,
   "metadata": {},
   "outputs": [
    {
     "data": {
      "text/plain": [
       "id                   175341\n",
       "dur                  109945\n",
       "proto                   133\n",
       "service                  13\n",
       "state                    11\n",
       "spkts                   646\n",
       "dpkts                   627\n",
       "sbytes                 9382\n",
       "dbytes                 8653\n",
       "rate                 115763\n",
       "sttl                     13\n",
       "dttl                      9\n",
       "sload                121356\n",
       "dload                116380\n",
       "sloss                   490\n",
       "dloss                   476\n",
       "sinpkt               114318\n",
       "dinpkt               110270\n",
       "sjit                 117101\n",
       "djit                 114861\n",
       "swin                     22\n",
       "stcpb                114473\n",
       "dtcpb                114187\n",
       "dwin                     19\n",
       "tcprtt                63878\n",
       "synack                57366\n",
       "ackdat                53248\n",
       "smean                  1377\n",
       "dmean                  1362\n",
       "trans_depth              14\n",
       "response_body_len      2819\n",
       "ct_srv_src               57\n",
       "ct_state_ttl              7\n",
       "ct_dst_ltm               52\n",
       "ct_src_dport_ltm         52\n",
       "ct_dst_sport_ltm         35\n",
       "ct_dst_src_ltm           58\n",
       "is_ftp_login              4\n",
       "ct_ftp_cmd                4\n",
       "ct_flw_http_mthd         11\n",
       "ct_src_ltm               52\n",
       "ct_srv_dst               57\n",
       "is_sm_ips_ports           2\n",
       "attack_cat               10\n",
       "label                     2\n",
       "dtype: int64"
      ]
     },
     "execution_count": 111,
     "metadata": {},
     "output_type": "execute_result"
    }
   ],
   "source": [
    "df.nunique()"
   ]
  },
  {
   "cell_type": "code",
   "execution_count": 112,
   "metadata": {},
   "outputs": [
    {
     "data": {
      "text/plain": [
       "array([ 0,  1,  4,  2,  9, 12,  6, 25, 16, 30,  3], dtype=int64)"
      ]
     },
     "execution_count": 112,
     "metadata": {},
     "output_type": "execute_result"
    }
   ],
   "source": [
    "\n",
    "df[\"ct_flw_http_mthd\"].unique()"
   ]
  },
  {
   "cell_type": "code",
   "execution_count": 113,
   "metadata": {},
   "outputs": [
    {
     "data": {
      "text/plain": [
       "array([0, 1, 2, 3, 6, 4, 5], dtype=int64)"
      ]
     },
     "execution_count": 113,
     "metadata": {},
     "output_type": "execute_result"
    }
   ],
   "source": [
    "\n",
    "df[\"ct_state_ttl\"].unique()"
   ]
  },
  {
   "cell_type": "code",
   "execution_count": 114,
   "metadata": {},
   "outputs": [
    {
     "data": {
      "text/plain": [
       "array([  0,   1,   2,  80, 155,   3,   5,   4, 163, 172,  39, 131,   9,\n",
       "         8], dtype=int64)"
      ]
     },
     "execution_count": 114,
     "metadata": {},
     "output_type": "execute_result"
    }
   ],
   "source": [
    "df[\"trans_depth\"].unique()"
   ]
  },
  {
   "cell_type": "code",
   "execution_count": 115,
   "metadata": {},
   "outputs": [
    {
     "data": {
      "text/plain": [
       "array([0, 1, 2, 4], dtype=int64)"
      ]
     },
     "execution_count": 115,
     "metadata": {},
     "output_type": "execute_result"
    }
   ],
   "source": [
    "df[\"ct_ftp_cmd\"].unique()"
   ]
  },
  {
   "cell_type": "code",
   "execution_count": 116,
   "metadata": {},
   "outputs": [
    {
     "data": {
      "text/plain": [
       "array([0, 1, 2, 4], dtype=int64)"
      ]
     },
     "execution_count": 116,
     "metadata": {},
     "output_type": "execute_result"
    }
   ],
   "source": [
    "df[\"is_ftp_login\"].unique()"
   ]
  },
  {
   "cell_type": "code",
   "execution_count": 117,
   "metadata": {},
   "outputs": [
    {
     "data": {
      "text/plain": [
       "array([ 1, 43,  7, 11,  2,  3,  6,  5, 12, 63,  4,  9,  8, 14, 13, 16, 10,\n",
       "       17, 15, 19, 21, 20, 22, 18, 27, 23, 37, 46, 39, 28, 36, 34, 29, 40,\n",
       "       25, 31, 38, 35, 52, 33, 24, 26, 44, 45, 30, 32, 47, 41, 42, 49, 51,\n",
       "       50, 59, 48, 54, 53, 58], dtype=int64)"
      ]
     },
     "execution_count": 117,
     "metadata": {},
     "output_type": "execute_result"
    }
   ],
   "source": [
    "\n",
    "df[\"ct_srv_src\"].unique()"
   ]
  },
  {
   "cell_type": "code",
   "execution_count": 118,
   "metadata": {},
   "outputs": [
    {
     "data": {
      "text/plain": [
       "array([ 1,  2,  3,  6,  7, 10,  5,  8,  9, 12,  4, 11, 13, 14, 24, 15, 17,\n",
       "       18, 16, 21, 23, 37, 46, 20, 40, 25, 22, 41, 35, 45, 27, 19, 26, 44,\n",
       "       31, 32, 38, 33, 39, 36, 43, 48, 29, 34, 47, 30, 28, 42, 50, 51, 59,\n",
       "       52], dtype=int64)"
      ]
     },
     "execution_count": 118,
     "metadata": {},
     "output_type": "execute_result"
    }
   ],
   "source": [
    "df[\"ct_dst_ltm\"].unique()"
   ]
  },
  {
   "cell_type": "code",
   "execution_count": 119,
   "metadata": {},
   "outputs": [
    {
     "data": {
      "text/plain": [
       "array([ 1,  2,  3,  6,  7, 10,  5,  8,  9, 12,  4, 11, 13, 14, 24, 15, 17,\n",
       "       18, 16, 21, 23, 37, 46, 20, 40, 25, 22, 41, 35, 45, 27, 19, 26, 44,\n",
       "       31, 32, 38, 33, 39, 36, 43, 48, 29, 34, 47, 30, 28, 42, 50, 51, 59,\n",
       "       52], dtype=int64)"
      ]
     },
     "execution_count": 119,
     "metadata": {},
     "output_type": "execute_result"
    }
   ],
   "source": [
    "df[\"ct_dst_ltm\"].unique()"
   ]
  },
  {
   "cell_type": "code",
   "execution_count": 120,
   "metadata": {},
   "outputs": [
    {
     "data": {
      "text/plain": [
       "array([ 1,  2,  3,  6, 12, 10,  5,  8,  4,  9, 13,  7, 17, 19, 11, 14, 15,\n",
       "       16, 21, 18, 24, 20, 23, 37, 46, 40, 25, 22, 45, 27, 26, 39, 41, 44,\n",
       "       34, 30, 28, 35, 29, 42, 47, 43, 31, 60, 33, 36, 38, 32, 50, 51, 52,\n",
       "       48], dtype=int64)"
      ]
     },
     "execution_count": 120,
     "metadata": {},
     "output_type": "execute_result"
    }
   ],
   "source": [
    "df[\"ct_src_ltm\"].unique()"
   ]
  },
  {
   "cell_type": "code",
   "execution_count": 121,
   "metadata": {},
   "outputs": [
    {
     "data": {
      "text/plain": [
       "array([ 1,  2,  3,  6, 10,  5,  8,  9,  7,  4, 11, 14, 13, 15, 12, 21, 17,\n",
       "       18, 23, 37, 46, 16, 20, 40, 25, 19, 33, 22, 31, 27, 34, 28, 26, 32,\n",
       "       29, 30, 24, 36, 45, 35, 39, 42, 41, 38, 50, 51, 43, 47, 44, 59, 52,\n",
       "       48], dtype=int64)"
      ]
     },
     "execution_count": 121,
     "metadata": {},
     "output_type": "execute_result"
    }
   ],
   "source": [
    "df[\"ct_src_dport_ltm\"].unique()"
   ]
  },
  {
   "cell_type": "code",
   "execution_count": 122,
   "metadata": {},
   "outputs": [
    {
     "data": {
      "text/plain": [
       "array([ 1,  2,  3, 23, 37, 46, 14, 20, 40,  4,  5,  6,  9,  8, 10,  7, 18,\n",
       "       17, 15, 16, 13, 12, 11, 24, 25, 28, 22, 19, 26, 21, 27, 31, 33, 32,\n",
       "       38], dtype=int64)"
      ]
     },
     "execution_count": 122,
     "metadata": {},
     "output_type": "execute_result"
    }
   ],
   "source": [
    "df[\"ct_dst_sport_ltm\"].unique()"
   ]
  },
  {
   "cell_type": "code",
   "execution_count": 123,
   "metadata": {},
   "outputs": [
    {
     "data": {
      "text/plain": [
       "array([ 1,  2,  3, 40,  4,  7,  6, 63,  5,  8,  9, 10, 13, 11, 12, 14, 19,\n",
       "       26, 15, 23, 37, 46, 39, 20, 28, 36, 34, 22, 29, 16, 25, 32, 38, 35,\n",
       "       51, 33, 18, 31, 41, 21, 30, 17, 27, 44, 43, 45, 24, 54, 42, 65, 47,\n",
       "       49, 50, 52, 59, 48, 53, 58], dtype=int64)"
      ]
     },
     "execution_count": 123,
     "metadata": {},
     "output_type": "execute_result"
    }
   ],
   "source": [
    "df[\"ct_dst_src_ltm\"].unique()"
   ]
  },
  {
   "cell_type": "code",
   "execution_count": null,
   "metadata": {},
   "outputs": [],
   "source": []
  },
  {
   "attachments": {},
   "cell_type": "markdown",
   "metadata": {},
   "source": [
    "# read the train csv and append all categorical values in increments of 1, keep a dictionary to keep record of mapping"
   ]
  },
  {
   "cell_type": "code",
   "execution_count": 124,
   "metadata": {},
   "outputs": [],
   "source": [
    "categorical_columns_dict = {i:{} for i in categorical_columns}"
   ]
  },
  {
   "cell_type": "code",
   "execution_count": 125,
   "metadata": {},
   "outputs": [],
   "source": [
    "for cat_col in categorical_columns_dict.keys():\n",
    "    unique_entries_for_col = df[cat_col].unique()\n",
    "\n",
    "    categorical_columns_dict[cat_col] = {k: v for k, v in zip(unique_entries_for_col, [i for i in range(len(unique_entries_for_col))])}\n"
   ]
  },
  {
   "cell_type": "code",
   "execution_count": 126,
   "metadata": {},
   "outputs": [],
   "source": [
    "df = pd.read_csv(path_to_train_set)"
   ]
  },
  {
   "cell_type": "code",
   "execution_count": 127,
   "metadata": {},
   "outputs": [],
   "source": [
    "df_test = pd.read_csv(path_to_test_set)"
   ]
  },
  {
   "cell_type": "code",
   "execution_count": 128,
   "metadata": {},
   "outputs": [],
   "source": [
    "for cat_col in categorical_columns:\n",
    "    df[cat_col] = df[cat_col].replace(categorical_columns_dict[cat_col])"
   ]
  },
  {
   "cell_type": "code",
   "execution_count": 129,
   "metadata": {},
   "outputs": [],
   "source": [
    "for cat_col in categorical_columns:\n",
    "    df_test[cat_col] = df_test[cat_col].replace(categorical_columns_dict[cat_col])"
   ]
  },
  {
   "cell_type": "code",
   "execution_count": 130,
   "metadata": {},
   "outputs": [
    {
     "data": {
      "text/html": [
       "<div>\n",
       "<style scoped>\n",
       "    .dataframe tbody tr th:only-of-type {\n",
       "        vertical-align: middle;\n",
       "    }\n",
       "\n",
       "    .dataframe tbody tr th {\n",
       "        vertical-align: top;\n",
       "    }\n",
       "\n",
       "    .dataframe thead th {\n",
       "        text-align: right;\n",
       "    }\n",
       "</style>\n",
       "<table border=\"1\" class=\"dataframe\">\n",
       "  <thead>\n",
       "    <tr style=\"text-align: right;\">\n",
       "      <th></th>\n",
       "      <th>id</th>\n",
       "      <th>dur</th>\n",
       "      <th>proto</th>\n",
       "      <th>service</th>\n",
       "      <th>state</th>\n",
       "      <th>spkts</th>\n",
       "      <th>dpkts</th>\n",
       "      <th>sbytes</th>\n",
       "      <th>dbytes</th>\n",
       "      <th>rate</th>\n",
       "      <th>...</th>\n",
       "      <th>ct_dst_sport_ltm</th>\n",
       "      <th>ct_dst_src_ltm</th>\n",
       "      <th>is_ftp_login</th>\n",
       "      <th>ct_ftp_cmd</th>\n",
       "      <th>ct_flw_http_mthd</th>\n",
       "      <th>ct_src_ltm</th>\n",
       "      <th>ct_srv_dst</th>\n",
       "      <th>is_sm_ips_ports</th>\n",
       "      <th>attack_cat</th>\n",
       "      <th>label</th>\n",
       "    </tr>\n",
       "  </thead>\n",
       "  <tbody>\n",
       "    <tr>\n",
       "      <th>0</th>\n",
       "      <td>1</td>\n",
       "      <td>0.121478</td>\n",
       "      <td>0</td>\n",
       "      <td>0</td>\n",
       "      <td>0</td>\n",
       "      <td>6</td>\n",
       "      <td>4</td>\n",
       "      <td>258</td>\n",
       "      <td>172</td>\n",
       "      <td>74.087490</td>\n",
       "      <td>...</td>\n",
       "      <td>0</td>\n",
       "      <td>0</td>\n",
       "      <td>0</td>\n",
       "      <td>0</td>\n",
       "      <td>0</td>\n",
       "      <td>0</td>\n",
       "      <td>0</td>\n",
       "      <td>0</td>\n",
       "      <td>Normal</td>\n",
       "      <td>0</td>\n",
       "    </tr>\n",
       "    <tr>\n",
       "      <th>1</th>\n",
       "      <td>2</td>\n",
       "      <td>0.649902</td>\n",
       "      <td>0</td>\n",
       "      <td>0</td>\n",
       "      <td>0</td>\n",
       "      <td>14</td>\n",
       "      <td>38</td>\n",
       "      <td>734</td>\n",
       "      <td>42014</td>\n",
       "      <td>78.473372</td>\n",
       "      <td>...</td>\n",
       "      <td>0</td>\n",
       "      <td>1</td>\n",
       "      <td>0</td>\n",
       "      <td>0</td>\n",
       "      <td>0</td>\n",
       "      <td>0</td>\n",
       "      <td>1</td>\n",
       "      <td>0</td>\n",
       "      <td>Normal</td>\n",
       "      <td>0</td>\n",
       "    </tr>\n",
       "    <tr>\n",
       "      <th>2</th>\n",
       "      <td>3</td>\n",
       "      <td>1.623129</td>\n",
       "      <td>0</td>\n",
       "      <td>0</td>\n",
       "      <td>0</td>\n",
       "      <td>8</td>\n",
       "      <td>16</td>\n",
       "      <td>364</td>\n",
       "      <td>13186</td>\n",
       "      <td>14.170161</td>\n",
       "      <td>...</td>\n",
       "      <td>0</td>\n",
       "      <td>2</td>\n",
       "      <td>0</td>\n",
       "      <td>0</td>\n",
       "      <td>0</td>\n",
       "      <td>1</td>\n",
       "      <td>1</td>\n",
       "      <td>0</td>\n",
       "      <td>Normal</td>\n",
       "      <td>0</td>\n",
       "    </tr>\n",
       "    <tr>\n",
       "      <th>3</th>\n",
       "      <td>4</td>\n",
       "      <td>1.681642</td>\n",
       "      <td>0</td>\n",
       "      <td>1</td>\n",
       "      <td>0</td>\n",
       "      <td>12</td>\n",
       "      <td>12</td>\n",
       "      <td>628</td>\n",
       "      <td>770</td>\n",
       "      <td>13.677108</td>\n",
       "      <td>...</td>\n",
       "      <td>0</td>\n",
       "      <td>2</td>\n",
       "      <td>1</td>\n",
       "      <td>1</td>\n",
       "      <td>0</td>\n",
       "      <td>1</td>\n",
       "      <td>0</td>\n",
       "      <td>0</td>\n",
       "      <td>Normal</td>\n",
       "      <td>0</td>\n",
       "    </tr>\n",
       "    <tr>\n",
       "      <th>4</th>\n",
       "      <td>5</td>\n",
       "      <td>0.449454</td>\n",
       "      <td>0</td>\n",
       "      <td>0</td>\n",
       "      <td>0</td>\n",
       "      <td>10</td>\n",
       "      <td>6</td>\n",
       "      <td>534</td>\n",
       "      <td>268</td>\n",
       "      <td>33.373826</td>\n",
       "      <td>...</td>\n",
       "      <td>0</td>\n",
       "      <td>3</td>\n",
       "      <td>0</td>\n",
       "      <td>0</td>\n",
       "      <td>0</td>\n",
       "      <td>1</td>\n",
       "      <td>2</td>\n",
       "      <td>0</td>\n",
       "      <td>Normal</td>\n",
       "      <td>0</td>\n",
       "    </tr>\n",
       "    <tr>\n",
       "      <th>...</th>\n",
       "      <td>...</td>\n",
       "      <td>...</td>\n",
       "      <td>...</td>\n",
       "      <td>...</td>\n",
       "      <td>...</td>\n",
       "      <td>...</td>\n",
       "      <td>...</td>\n",
       "      <td>...</td>\n",
       "      <td>...</td>\n",
       "      <td>...</td>\n",
       "      <td>...</td>\n",
       "      <td>...</td>\n",
       "      <td>...</td>\n",
       "      <td>...</td>\n",
       "      <td>...</td>\n",
       "      <td>...</td>\n",
       "      <td>...</td>\n",
       "      <td>...</td>\n",
       "      <td>...</td>\n",
       "      <td>...</td>\n",
       "      <td>...</td>\n",
       "    </tr>\n",
       "    <tr>\n",
       "      <th>175336</th>\n",
       "      <td>175337</td>\n",
       "      <td>0.000009</td>\n",
       "      <td>1</td>\n",
       "      <td>6</td>\n",
       "      <td>1</td>\n",
       "      <td>2</td>\n",
       "      <td>0</td>\n",
       "      <td>114</td>\n",
       "      <td>0</td>\n",
       "      <td>111111.107200</td>\n",
       "      <td>...</td>\n",
       "      <td>20</td>\n",
       "      <td>46</td>\n",
       "      <td>0</td>\n",
       "      <td>0</td>\n",
       "      <td>0</td>\n",
       "      <td>20</td>\n",
       "      <td>22</td>\n",
       "      <td>0</td>\n",
       "      <td>Generic</td>\n",
       "      <td>1</td>\n",
       "    </tr>\n",
       "    <tr>\n",
       "      <th>175337</th>\n",
       "      <td>175338</td>\n",
       "      <td>0.505762</td>\n",
       "      <td>0</td>\n",
       "      <td>0</td>\n",
       "      <td>0</td>\n",
       "      <td>10</td>\n",
       "      <td>8</td>\n",
       "      <td>620</td>\n",
       "      <td>354</td>\n",
       "      <td>33.612649</td>\n",
       "      <td>...</td>\n",
       "      <td>0</td>\n",
       "      <td>1</td>\n",
       "      <td>0</td>\n",
       "      <td>0</td>\n",
       "      <td>0</td>\n",
       "      <td>0</td>\n",
       "      <td>0</td>\n",
       "      <td>0</td>\n",
       "      <td>Shellcode</td>\n",
       "      <td>1</td>\n",
       "    </tr>\n",
       "    <tr>\n",
       "      <th>175338</th>\n",
       "      <td>175339</td>\n",
       "      <td>0.000009</td>\n",
       "      <td>1</td>\n",
       "      <td>6</td>\n",
       "      <td>1</td>\n",
       "      <td>2</td>\n",
       "      <td>0</td>\n",
       "      <td>114</td>\n",
       "      <td>0</td>\n",
       "      <td>111111.107200</td>\n",
       "      <td>...</td>\n",
       "      <td>2</td>\n",
       "      <td>12</td>\n",
       "      <td>0</td>\n",
       "      <td>0</td>\n",
       "      <td>0</td>\n",
       "      <td>2</td>\n",
       "      <td>13</td>\n",
       "      <td>0</td>\n",
       "      <td>Generic</td>\n",
       "      <td>1</td>\n",
       "    </tr>\n",
       "    <tr>\n",
       "      <th>175339</th>\n",
       "      <td>175340</td>\n",
       "      <td>0.000009</td>\n",
       "      <td>1</td>\n",
       "      <td>6</td>\n",
       "      <td>1</td>\n",
       "      <td>2</td>\n",
       "      <td>0</td>\n",
       "      <td>114</td>\n",
       "      <td>0</td>\n",
       "      <td>111111.107200</td>\n",
       "      <td>...</td>\n",
       "      <td>6</td>\n",
       "      <td>40</td>\n",
       "      <td>0</td>\n",
       "      <td>0</td>\n",
       "      <td>0</td>\n",
       "      <td>35</td>\n",
       "      <td>33</td>\n",
       "      <td>0</td>\n",
       "      <td>Generic</td>\n",
       "      <td>1</td>\n",
       "    </tr>\n",
       "    <tr>\n",
       "      <th>175340</th>\n",
       "      <td>175341</td>\n",
       "      <td>0.000009</td>\n",
       "      <td>1</td>\n",
       "      <td>6</td>\n",
       "      <td>1</td>\n",
       "      <td>2</td>\n",
       "      <td>0</td>\n",
       "      <td>114</td>\n",
       "      <td>0</td>\n",
       "      <td>111111.107200</td>\n",
       "      <td>...</td>\n",
       "      <td>19</td>\n",
       "      <td>40</td>\n",
       "      <td>0</td>\n",
       "      <td>0</td>\n",
       "      <td>0</td>\n",
       "      <td>35</td>\n",
       "      <td>33</td>\n",
       "      <td>0</td>\n",
       "      <td>Generic</td>\n",
       "      <td>1</td>\n",
       "    </tr>\n",
       "  </tbody>\n",
       "</table>\n",
       "<p>175341 rows × 45 columns</p>\n",
       "</div>"
      ],
      "text/plain": [
       "            id       dur  proto  service  state  spkts  dpkts  sbytes  dbytes   \n",
       "0            1  0.121478      0        0      0      6      4     258     172  \\\n",
       "1            2  0.649902      0        0      0     14     38     734   42014   \n",
       "2            3  1.623129      0        0      0      8     16     364   13186   \n",
       "3            4  1.681642      0        1      0     12     12     628     770   \n",
       "4            5  0.449454      0        0      0     10      6     534     268   \n",
       "...        ...       ...    ...      ...    ...    ...    ...     ...     ...   \n",
       "175336  175337  0.000009      1        6      1      2      0     114       0   \n",
       "175337  175338  0.505762      0        0      0     10      8     620     354   \n",
       "175338  175339  0.000009      1        6      1      2      0     114       0   \n",
       "175339  175340  0.000009      1        6      1      2      0     114       0   \n",
       "175340  175341  0.000009      1        6      1      2      0     114       0   \n",
       "\n",
       "                 rate  ...  ct_dst_sport_ltm  ct_dst_src_ltm  is_ftp_login   \n",
       "0           74.087490  ...                 0               0             0  \\\n",
       "1           78.473372  ...                 0               1             0   \n",
       "2           14.170161  ...                 0               2             0   \n",
       "3           13.677108  ...                 0               2             1   \n",
       "4           33.373826  ...                 0               3             0   \n",
       "...               ...  ...               ...             ...           ...   \n",
       "175336  111111.107200  ...                20              46             0   \n",
       "175337      33.612649  ...                 0               1             0   \n",
       "175338  111111.107200  ...                 2              12             0   \n",
       "175339  111111.107200  ...                 6              40             0   \n",
       "175340  111111.107200  ...                19              40             0   \n",
       "\n",
       "        ct_ftp_cmd  ct_flw_http_mthd  ct_src_ltm  ct_srv_dst  is_sm_ips_ports   \n",
       "0                0                 0           0           0                0  \\\n",
       "1                0                 0           0           1                0   \n",
       "2                0                 0           1           1                0   \n",
       "3                1                 0           1           0                0   \n",
       "4                0                 0           1           2                0   \n",
       "...            ...               ...         ...         ...              ...   \n",
       "175336           0                 0          20          22                0   \n",
       "175337           0                 0           0           0                0   \n",
       "175338           0                 0           2          13                0   \n",
       "175339           0                 0          35          33                0   \n",
       "175340           0                 0          35          33                0   \n",
       "\n",
       "        attack_cat  label  \n",
       "0           Normal      0  \n",
       "1           Normal      0  \n",
       "2           Normal      0  \n",
       "3           Normal      0  \n",
       "4           Normal      0  \n",
       "...            ...    ...  \n",
       "175336     Generic      1  \n",
       "175337   Shellcode      1  \n",
       "175338     Generic      1  \n",
       "175339     Generic      1  \n",
       "175340     Generic      1  \n",
       "\n",
       "[175341 rows x 45 columns]"
      ]
     },
     "execution_count": 130,
     "metadata": {},
     "output_type": "execute_result"
    }
   ],
   "source": [
    "df"
   ]
  },
  {
   "cell_type": "code",
   "execution_count": 131,
   "metadata": {},
   "outputs": [
    {
     "data": {
      "text/plain": [
       "array([ 1,  0,  4,  9,  2,  5, 10], dtype=int64)"
      ]
     },
     "execution_count": 131,
     "metadata": {},
     "output_type": "execute_result"
    }
   ],
   "source": [
    "df_test['state'].unique()"
   ]
  },
  {
   "cell_type": "code",
   "execution_count": 132,
   "metadata": {},
   "outputs": [
    {
     "data": {
      "text/plain": [
       "{'FIN': 0,\n",
       " 'INT': 1,\n",
       " 'CON': 2,\n",
       " 'ECO': 3,\n",
       " 'REQ': 4,\n",
       " 'RST': 5,\n",
       " 'PAR': 6,\n",
       " 'URN': 7,\n",
       " 'no': 8,\n",
       " 'ACC': 9,\n",
       " 'CLO': 10}"
      ]
     },
     "execution_count": 132,
     "metadata": {},
     "output_type": "execute_result"
    }
   ],
   "source": [
    "categorical_columns_dict[\"state\"]"
   ]
  },
  {
   "cell_type": "code",
   "execution_count": 136,
   "metadata": {},
   "outputs": [],
   "source": [
    "df.to_csv(f\"./data/centralized_data.csv\",index=False)\n",
    "df_test.to_csv(f\"./data/centralized_test_data.csv\",index=False)"
   ]
  },
  {
   "cell_type": "code",
   "execution_count": 70,
   "metadata": {},
   "outputs": [],
   "source": [
    "\n",
    "number_of_clients = 10\n",
    "path_to_client_dataset = \"./data/client_dataset\"\n",
    "if not os.path.isdir(path_to_client_dataset):\n",
    "    os.makedirs(path_to_client_dataset,exist_ok=True)\n",
    "\n",
    "def partition_dataframe(df,number_of_clients):\n",
    "    shuffled_df = df.sample(frac=1, random_state=42)  # Shuffle the DataFrame randomly\n",
    "\n",
    "# Reset the index of the shuffled DataFrame\n",
    "    df = shuffled_df.reset_index(drop=True)\n",
    "    # Calculate the size of each partition\n",
    "    partition_size = (len(df) // number_of_clients)+1\n",
    "\n",
    "    # Partition the dataframe\n",
    "    for idx,i in enumerate(range(0, len(df), partition_size)):\n",
    "        partition = df[i:i+partition_size]\n",
    "\n",
    "\n",
    "        partition.to_csv(os.path.join(path_to_client_dataset,f\"client_{idx}.csv\"),index=False)\n",
    "\n",
    "\n",
    "\n",
    "\n",
    "partition_dataframe(df,number_of_clients)"
   ]
  },
  {
   "cell_type": "code",
   "execution_count": 1,
   "metadata": {},
   "outputs": [],
   "source": [
    "import pandas as pd\n",
    "import os\n",
    "\n",
    "df = pd.read_csv(\"./data/client_dataset/client_0.csv\")\n"
   ]
  },
  {
   "cell_type": "code",
   "execution_count": 4,
   "metadata": {},
   "outputs": [
    {
     "data": {
      "text/html": [
       "<div>\n",
       "<style scoped>\n",
       "    .dataframe tbody tr th:only-of-type {\n",
       "        vertical-align: middle;\n",
       "    }\n",
       "\n",
       "    .dataframe tbody tr th {\n",
       "        vertical-align: top;\n",
       "    }\n",
       "\n",
       "    .dataframe thead th {\n",
       "        text-align: right;\n",
       "    }\n",
       "</style>\n",
       "<table border=\"1\" class=\"dataframe\">\n",
       "  <thead>\n",
       "    <tr style=\"text-align: right;\">\n",
       "      <th></th>\n",
       "      <th>id</th>\n",
       "      <th>dur</th>\n",
       "      <th>proto</th>\n",
       "      <th>service</th>\n",
       "      <th>state</th>\n",
       "      <th>spkts</th>\n",
       "      <th>dpkts</th>\n",
       "      <th>sbytes</th>\n",
       "      <th>dbytes</th>\n",
       "      <th>rate</th>\n",
       "      <th>...</th>\n",
       "      <th>ct_dst_sport_ltm</th>\n",
       "      <th>ct_dst_src_ltm</th>\n",
       "      <th>is_ftp_login</th>\n",
       "      <th>ct_ftp_cmd</th>\n",
       "      <th>ct_flw_http_mthd</th>\n",
       "      <th>ct_src_ltm</th>\n",
       "      <th>ct_srv_dst</th>\n",
       "      <th>is_sm_ips_ports</th>\n",
       "      <th>attack_cat</th>\n",
       "      <th>label</th>\n",
       "    </tr>\n",
       "  </thead>\n",
       "  <tbody>\n",
       "    <tr>\n",
       "      <th>0</th>\n",
       "      <td>15483</td>\n",
       "      <td>2.736664</td>\n",
       "      <td>0</td>\n",
       "      <td>0</td>\n",
       "      <td>0</td>\n",
       "      <td>232</td>\n",
       "      <td>438</td>\n",
       "      <td>13350</td>\n",
       "      <td>548216</td>\n",
       "      <td>244.458211</td>\n",
       "      <td>...</td>\n",
       "      <td>0</td>\n",
       "      <td>8</td>\n",
       "      <td>0</td>\n",
       "      <td>0</td>\n",
       "      <td>0</td>\n",
       "      <td>8</td>\n",
       "      <td>11</td>\n",
       "      <td>0</td>\n",
       "      <td>Normal</td>\n",
       "      <td>0</td>\n",
       "    </tr>\n",
       "    <tr>\n",
       "      <th>1</th>\n",
       "      <td>133350</td>\n",
       "      <td>0.000009</td>\n",
       "      <td>1</td>\n",
       "      <td>6</td>\n",
       "      <td>1</td>\n",
       "      <td>2</td>\n",
       "      <td>0</td>\n",
       "      <td>114</td>\n",
       "      <td>0</td>\n",
       "      <td>111111.107200</td>\n",
       "      <td>...</td>\n",
       "      <td>14</td>\n",
       "      <td>11</td>\n",
       "      <td>0</td>\n",
       "      <td>0</td>\n",
       "      <td>0</td>\n",
       "      <td>5</td>\n",
       "      <td>11</td>\n",
       "      <td>0</td>\n",
       "      <td>Generic</td>\n",
       "      <td>1</td>\n",
       "    </tr>\n",
       "    <tr>\n",
       "      <th>2</th>\n",
       "      <td>80486</td>\n",
       "      <td>5.788526</td>\n",
       "      <td>0</td>\n",
       "      <td>0</td>\n",
       "      <td>0</td>\n",
       "      <td>36</td>\n",
       "      <td>34</td>\n",
       "      <td>6102</td>\n",
       "      <td>3892</td>\n",
       "      <td>11.920133</td>\n",
       "      <td>...</td>\n",
       "      <td>0</td>\n",
       "      <td>4</td>\n",
       "      <td>0</td>\n",
       "      <td>0</td>\n",
       "      <td>0</td>\n",
       "      <td>1</td>\n",
       "      <td>12</td>\n",
       "      <td>0</td>\n",
       "      <td>Exploits</td>\n",
       "      <td>1</td>\n",
       "    </tr>\n",
       "    <tr>\n",
       "      <th>3</th>\n",
       "      <td>29973</td>\n",
       "      <td>3.849634</td>\n",
       "      <td>0</td>\n",
       "      <td>0</td>\n",
       "      <td>0</td>\n",
       "      <td>448</td>\n",
       "      <td>858</td>\n",
       "      <td>25160</td>\n",
       "      <td>1094788</td>\n",
       "      <td>338.993271</td>\n",
       "      <td>...</td>\n",
       "      <td>0</td>\n",
       "      <td>6</td>\n",
       "      <td>0</td>\n",
       "      <td>0</td>\n",
       "      <td>0</td>\n",
       "      <td>1</td>\n",
       "      <td>8</td>\n",
       "      <td>0</td>\n",
       "      <td>Normal</td>\n",
       "      <td>0</td>\n",
       "    </tr>\n",
       "    <tr>\n",
       "      <th>4</th>\n",
       "      <td>18340</td>\n",
       "      <td>0.001052</td>\n",
       "      <td>1</td>\n",
       "      <td>6</td>\n",
       "      <td>2</td>\n",
       "      <td>2</td>\n",
       "      <td>2</td>\n",
       "      <td>130</td>\n",
       "      <td>162</td>\n",
       "      <td>2851.711087</td>\n",
       "      <td>...</td>\n",
       "      <td>0</td>\n",
       "      <td>0</td>\n",
       "      <td>0</td>\n",
       "      <td>0</td>\n",
       "      <td>0</td>\n",
       "      <td>2</td>\n",
       "      <td>3</td>\n",
       "      <td>0</td>\n",
       "      <td>Normal</td>\n",
       "      <td>0</td>\n",
       "    </tr>\n",
       "    <tr>\n",
       "      <th>...</th>\n",
       "      <td>...</td>\n",
       "      <td>...</td>\n",
       "      <td>...</td>\n",
       "      <td>...</td>\n",
       "      <td>...</td>\n",
       "      <td>...</td>\n",
       "      <td>...</td>\n",
       "      <td>...</td>\n",
       "      <td>...</td>\n",
       "      <td>...</td>\n",
       "      <td>...</td>\n",
       "      <td>...</td>\n",
       "      <td>...</td>\n",
       "      <td>...</td>\n",
       "      <td>...</td>\n",
       "      <td>...</td>\n",
       "      <td>...</td>\n",
       "      <td>...</td>\n",
       "      <td>...</td>\n",
       "      <td>...</td>\n",
       "      <td>...</td>\n",
       "    </tr>\n",
       "    <tr>\n",
       "      <th>37255</th>\n",
       "      <td>62074</td>\n",
       "      <td>0.000003</td>\n",
       "      <td>1</td>\n",
       "      <td>0</td>\n",
       "      <td>1</td>\n",
       "      <td>2</td>\n",
       "      <td>0</td>\n",
       "      <td>168</td>\n",
       "      <td>0</td>\n",
       "      <td>333333.321500</td>\n",
       "      <td>...</td>\n",
       "      <td>0</td>\n",
       "      <td>0</td>\n",
       "      <td>0</td>\n",
       "      <td>0</td>\n",
       "      <td>0</td>\n",
       "      <td>4</td>\n",
       "      <td>0</td>\n",
       "      <td>0</td>\n",
       "      <td>Reconnaissance</td>\n",
       "      <td>1</td>\n",
       "    </tr>\n",
       "    <tr>\n",
       "      <th>37256</th>\n",
       "      <td>48940</td>\n",
       "      <td>0.391574</td>\n",
       "      <td>0</td>\n",
       "      <td>4</td>\n",
       "      <td>0</td>\n",
       "      <td>10</td>\n",
       "      <td>6</td>\n",
       "      <td>1526</td>\n",
       "      <td>268</td>\n",
       "      <td>38.306936</td>\n",
       "      <td>...</td>\n",
       "      <td>0</td>\n",
       "      <td>5</td>\n",
       "      <td>0</td>\n",
       "      <td>0</td>\n",
       "      <td>1</td>\n",
       "      <td>0</td>\n",
       "      <td>9</td>\n",
       "      <td>0</td>\n",
       "      <td>Fuzzers</td>\n",
       "      <td>1</td>\n",
       "    </tr>\n",
       "    <tr>\n",
       "      <th>37257</th>\n",
       "      <td>171397</td>\n",
       "      <td>0.000009</td>\n",
       "      <td>1</td>\n",
       "      <td>6</td>\n",
       "      <td>1</td>\n",
       "      <td>2</td>\n",
       "      <td>0</td>\n",
       "      <td>114</td>\n",
       "      <td>0</td>\n",
       "      <td>111111.107200</td>\n",
       "      <td>...</td>\n",
       "      <td>23</td>\n",
       "      <td>34</td>\n",
       "      <td>0</td>\n",
       "      <td>0</td>\n",
       "      <td>0</td>\n",
       "      <td>49</td>\n",
       "      <td>39</td>\n",
       "      <td>0</td>\n",
       "      <td>Generic</td>\n",
       "      <td>1</td>\n",
       "    </tr>\n",
       "    <tr>\n",
       "      <th>37258</th>\n",
       "      <td>53340</td>\n",
       "      <td>2.859503</td>\n",
       "      <td>0</td>\n",
       "      <td>0</td>\n",
       "      <td>0</td>\n",
       "      <td>10</td>\n",
       "      <td>8</td>\n",
       "      <td>564</td>\n",
       "      <td>354</td>\n",
       "      <td>5.945089</td>\n",
       "      <td>...</td>\n",
       "      <td>0</td>\n",
       "      <td>0</td>\n",
       "      <td>0</td>\n",
       "      <td>0</td>\n",
       "      <td>0</td>\n",
       "      <td>1</td>\n",
       "      <td>4</td>\n",
       "      <td>0</td>\n",
       "      <td>Reconnaissance</td>\n",
       "      <td>1</td>\n",
       "    </tr>\n",
       "    <tr>\n",
       "      <th>37259</th>\n",
       "      <td>43151</td>\n",
       "      <td>0.000007</td>\n",
       "      <td>1</td>\n",
       "      <td>0</td>\n",
       "      <td>1</td>\n",
       "      <td>2</td>\n",
       "      <td>0</td>\n",
       "      <td>78</td>\n",
       "      <td>0</td>\n",
       "      <td>142857.140900</td>\n",
       "      <td>...</td>\n",
       "      <td>0</td>\n",
       "      <td>11</td>\n",
       "      <td>0</td>\n",
       "      <td>0</td>\n",
       "      <td>0</td>\n",
       "      <td>2</td>\n",
       "      <td>11</td>\n",
       "      <td>0</td>\n",
       "      <td>Normal</td>\n",
       "      <td>0</td>\n",
       "    </tr>\n",
       "  </tbody>\n",
       "</table>\n",
       "<p>37260 rows × 45 columns</p>\n",
       "</div>"
      ],
      "text/plain": [
       "           id       dur  proto  service  state  spkts  dpkts  sbytes   dbytes   \n",
       "0       15483  2.736664      0        0      0    232    438   13350   548216  \\\n",
       "1      133350  0.000009      1        6      1      2      0     114        0   \n",
       "2       80486  5.788526      0        0      0     36     34    6102     3892   \n",
       "3       29973  3.849634      0        0      0    448    858   25160  1094788   \n",
       "4       18340  0.001052      1        6      2      2      2     130      162   \n",
       "...       ...       ...    ...      ...    ...    ...    ...     ...      ...   \n",
       "37255   62074  0.000003      1        0      1      2      0     168        0   \n",
       "37256   48940  0.391574      0        4      0     10      6    1526      268   \n",
       "37257  171397  0.000009      1        6      1      2      0     114        0   \n",
       "37258   53340  2.859503      0        0      0     10      8     564      354   \n",
       "37259   43151  0.000007      1        0      1      2      0      78        0   \n",
       "\n",
       "                rate  ...  ct_dst_sport_ltm  ct_dst_src_ltm  is_ftp_login   \n",
       "0         244.458211  ...                 0               8             0  \\\n",
       "1      111111.107200  ...                14              11             0   \n",
       "2          11.920133  ...                 0               4             0   \n",
       "3         338.993271  ...                 0               6             0   \n",
       "4        2851.711087  ...                 0               0             0   \n",
       "...              ...  ...               ...             ...           ...   \n",
       "37255  333333.321500  ...                 0               0             0   \n",
       "37256      38.306936  ...                 0               5             0   \n",
       "37257  111111.107200  ...                23              34             0   \n",
       "37258       5.945089  ...                 0               0             0   \n",
       "37259  142857.140900  ...                 0              11             0   \n",
       "\n",
       "       ct_ftp_cmd  ct_flw_http_mthd  ct_src_ltm  ct_srv_dst  is_sm_ips_ports   \n",
       "0               0                 0           8          11                0  \\\n",
       "1               0                 0           5          11                0   \n",
       "2               0                 0           1          12                0   \n",
       "3               0                 0           1           8                0   \n",
       "4               0                 0           2           3                0   \n",
       "...           ...               ...         ...         ...              ...   \n",
       "37255           0                 0           4           0                0   \n",
       "37256           0                 1           0           9                0   \n",
       "37257           0                 0          49          39                0   \n",
       "37258           0                 0           1           4                0   \n",
       "37259           0                 0           2          11                0   \n",
       "\n",
       "           attack_cat  label  \n",
       "0              Normal      0  \n",
       "1             Generic      1  \n",
       "2            Exploits      1  \n",
       "3              Normal      0  \n",
       "4              Normal      0  \n",
       "...               ...    ...  \n",
       "37255  Reconnaissance      1  \n",
       "37256         Fuzzers      1  \n",
       "37257         Generic      1  \n",
       "37258  Reconnaissance      1  \n",
       "37259          Normal      0  \n",
       "\n",
       "[37260 rows x 45 columns]"
      ]
     },
     "execution_count": 4,
     "metadata": {},
     "output_type": "execute_result"
    }
   ],
   "source": [
    "df[:int(len(df)*.85)]"
   ]
  }
 ],
 "metadata": {
  "kernelspec": {
   "display_name": "fl_lstm",
   "language": "python",
   "name": "python3"
  },
  "language_info": {
   "codemirror_mode": {
    "name": "ipython",
    "version": 3
   },
   "file_extension": ".py",
   "mimetype": "text/x-python",
   "name": "python",
   "nbconvert_exporter": "python",
   "pygments_lexer": "ipython3",
   "version": "3.11.3"
  },
  "orig_nbformat": 4
 },
 "nbformat": 4,
 "nbformat_minor": 2
}
